{
 "cells": [
  {
   "cell_type": "code",
   "execution_count": null,
   "metadata": {},
   "outputs": [],
   "source": [
    "import requests\n",
    "import json\n",
    "import pymongo\n",
    "import pandas as pd\n",
    "\n",
    "from config import yelpkey"
   ]
  },
  {
   "cell_type": "code",
   "execution_count": null,
   "metadata": {},
   "outputs": [],
   "source": [
    "# Load Kaggle CSV and drop duplicates\n",
    "\n",
    "kaggle_df = pd.read_csv('Datafiniti_Fast_Food_Restaurants.csv')\n",
    "kaggle_df = kaggle_df.drop(columns='categories').drop_duplicates()\n",
    "#test_df = kaggle_df.head(5)\n",
    "#test_df"
   ]
  },
  {
   "cell_type": "code",
   "execution_count": null,
   "metadata": {},
   "outputs": [],
   "source": [
    "base_url = \"https://api.yelp.com/v3/businesses/search\"\n",
    "headers = {'Authorization': f'Bearer {yelpkey}'}\n",
    "\n",
    "conn = 'mongodb://localhost:27017'\n",
    "client = pymongo.MongoClient(conn)\n",
    "db = client.fastfood_db"
   ]
  },
  {
   "cell_type": "code",
   "execution_count": null,
   "metadata": {},
   "outputs": [],
   "source": [
    "row_number = 0\n",
    "    row_number += 1\n",
    "\n",
    "for index, row in kaggle_df.iterrows():\n",
    "    row_number += 1\n",
    "    params = {\n",
    "        'term': row['name'],\n",
    "        'latitude': row['latitude'],\n",
    "        'longitude': row['longitude'],\n",
    "        'limit': 1\n",
    "    }    \n",
    "    try:\n",
    "        response = requests.get(base_url, params=params, headers=headers).json()['businesses'][0]\n",
    "        response['kaggle_id'] = row['id']\n",
    "        db.yelp.insert_one(response)\n",
    "        print(f'Processing record {row_number}')\n",
    "    except KeyError, IndexError:\n",
    "        print(f'No result for record {row_number}')"
   ]
  },
  {
   "cell_type": "code",
   "execution_count": null,
   "metadata": {},
   "outputs": [],
   "source": [
    "response"
   ]
  },
  {
   "cell_type": "code",
   "execution_count": null,
   "metadata": {},
   "outputs": [],
   "source": [
    "print(yelp_lat)\n",
    "print(csv_lat)\n",
    "(yelp_lat - csv_lat) * 110000"
   ]
  },
  {
   "cell_type": "code",
   "execution_count": null,
   "metadata": {},
   "outputs": [],
   "source": []
  },
  {
   "cell_type": "code",
   "execution_count": null,
   "metadata": {},
   "outputs": [],
   "source": []
  },
  {
   "cell_type": "code",
   "execution_count": null,
   "metadata": {},
   "outputs": [],
   "source": []
  }
 ],
 "metadata": {
  "kernelspec": {
   "display_name": "Python 3",
   "language": "python",
   "name": "python3"
  },
  "language_info": {
   "codemirror_mode": {
    "name": "ipython",
    "version": 3
   },
   "file_extension": ".py",
   "mimetype": "text/x-python",
   "name": "python",
   "nbconvert_exporter": "python",
   "pygments_lexer": "ipython3",
   "version": "3.6.7"
  }
 },
 "nbformat": 4,
 "nbformat_minor": 2
}
