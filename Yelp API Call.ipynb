{
 "cells": [
  {
   "cell_type": "code",
   "execution_count": 5,
   "metadata": {},
   "outputs": [],
   "source": [
    "import requests\n",
    "import json\n",
    "\n",
    "from config import yelpkey"
   ]
  },
  {
   "cell_type": "code",
   "execution_count": 17,
   "metadata": {},
   "outputs": [],
   "source": [
    "base_url = \"https://api.yelp.com/v3/businesses/search\"\n",
    "headers = {'Authorization': f'Bearer {yelpkey}'}\n",
    "params = {\n",
    "    'term': 'SONIC Drive In',\n",
    "    'latitude': 29.814697,\n",
    "    'longitude': -90.814742,\n",
    "    'limit': 1\n",
    "}\n",
    "response = requests.get(base_url, params=params, headers=headers).json()"
   ]
  },
  {
   "cell_type": "code",
   "execution_count": 18,
   "metadata": {},
   "outputs": [
    {
     "name": "stdout",
     "output_type": "stream",
     "text": [
      "{'businesses': [{'id': 'yjWEUh0Nr8gxHivqAIqU9A', 'alias': 'sonic-drive-in-thibodaux-2', 'name': 'Sonic Drive-In', 'image_url': 'https://s3-media4.fl.yelpcdn.com/bphoto/CaTfcfIbJlDmKXtU-yzxKw/o.jpg', 'is_closed': False, 'url': 'https://www.yelp.com/biz/sonic-drive-in-thibodaux-2?adjust_creative=v1hZEXlR3AzO4fEFF9CJjA&utm_campaign=yelp_api_v3&utm_medium=api_v3_business_search&utm_source=v1hZEXlR3AzO4fEFF9CJjA', 'review_count': 1, 'categories': [{'alias': 'hotdogs', 'title': 'Fast Food'}, {'alias': 'icecream', 'title': 'Ice Cream & Frozen Yogurt'}, {'alias': 'burgers', 'title': 'Burgers'}], 'rating': 5.0, 'coordinates': {'latitude': 29.8146364783924, 'longitude': -90.8147357480356}, 'transactions': [], 'price': '$', 'location': {'address1': '800 N Canal Blvd', 'address2': None, 'address3': None, 'city': 'Thibodaux', 'zip_code': '70301', 'country': 'US', 'state': 'LA', 'display_address': ['800 N Canal Blvd', 'Thibodaux, LA 70301']}, 'phone': '+19854477000', 'display_phone': '(985) 447-7000', 'distance': 6.756664703118765}], 'total': 92, 'region': {'center': {'longitude': -90.814742, 'latitude': 29.814697}}}\n"
     ]
    }
   ],
   "source": [
    "print(response)"
   ]
  },
  {
   "cell_type": "code",
   "execution_count": 16,
   "metadata": {},
   "outputs": [
    {
     "data": {
      "text/plain": [
       "{'Authorization': 'Bearer {yelpkey}'}"
      ]
     },
     "execution_count": 16,
     "metadata": {},
     "output_type": "execute_result"
    }
   ],
   "source": [
    "headers"
   ]
  },
  {
   "cell_type": "code",
   "execution_count": null,
   "metadata": {},
   "outputs": [],
   "source": []
  }
 ],
 "metadata": {
  "kernelspec": {
   "display_name": "Python 3",
   "language": "python",
   "name": "python3"
  },
  "language_info": {
   "codemirror_mode": {
    "name": "ipython",
    "version": 3
   },
   "file_extension": ".py",
   "mimetype": "text/x-python",
   "name": "python",
   "nbconvert_exporter": "python",
   "pygments_lexer": "ipython3",
   "version": "3.6.7"
  }
 },
 "nbformat": 4,
 "nbformat_minor": 2
}
